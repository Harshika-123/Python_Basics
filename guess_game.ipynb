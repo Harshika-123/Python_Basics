{
 "cells": [
  {
   "cell_type": "code",
   "execution_count": 1,
   "metadata": {},
   "outputs": [
    {
     "data": {
      "text/plain": [
       "39"
      ]
     },
     "execution_count": 1,
     "metadata": {},
     "output_type": "execute_result"
    }
   ],
   "source": [
    "import random\n",
    "\n",
    "random.randint(1,100)"
   ]
  },
  {
   "cell_type": "code",
   "execution_count": null,
   "metadata": {},
   "outputs": [
    {
     "name": "stdout",
     "output_type": "stream",
     "text": [
      "guess higher number\n",
      "guess lower number\n",
      "guess lower number\n",
      "guess lower number\n",
      "guess lower number\n",
      "guess higher number\n",
      "guess higher number\n",
      "guess higher number\n",
      "guess lower number\n",
      "guess lower number\n",
      "guess higher number\n",
      "guess higher number\n",
      "guess higher number\n",
      "guess higher number\n",
      "guess higher number\n",
      "guess higher number\n",
      "guess higher number\n",
      "guess higher number\n",
      "guess higher number\n",
      "guess lower number\n",
      "guess lower number\n"
     ]
    }
   ],
   "source": [
    "number=random.randint(1,100)\n",
    "guess=int(input('Guess the number :'))\n",
    "\n",
    "while guess!=number:\n",
    "    if guess<number:\n",
    "        print('guess higher number')\n",
    "    else:\n",
    "        print('guess lower number')\n",
    "    guess=int(input('Guess the number :'))\n",
    "print('Right !!! Number Guessed......')"
   ]
  },
  {
   "cell_type": "code",
   "execution_count": null,
   "metadata": {},
   "outputs": [],
   "source": []
  }
 ],
 "metadata": {
  "kernelspec": {
   "display_name": "ocr_env",
   "language": "python",
   "name": "python3"
  },
  "language_info": {
   "codemirror_mode": {
    "name": "ipython",
    "version": 3
   },
   "file_extension": ".py",
   "mimetype": "text/x-python",
   "name": "python",
   "nbconvert_exporter": "python",
   "pygments_lexer": "ipython3",
   "version": "3.10.15"
  }
 },
 "nbformat": 4,
 "nbformat_minor": 2
}
